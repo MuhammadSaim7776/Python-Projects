{
 "cells": [
  {
   "cell_type": "code",
   "execution_count": 1,
   "metadata": {},
   "outputs": [
    {
     "name": "stdout",
     "output_type": "stream",
     "text": [
      "Enter your Name \n",
      "saim\n",
      "Enter your Age \n",
      "21\n",
      "Enter the number of times you want to print message\n",
      "5\n",
      "saim  will become 100 years old on  2100\n",
      "saim  will become 100 years old on  2100\n",
      "saim  will become 100 years old on  2100\n",
      "saim  will become 100 years old on  2100\n",
      "saim  will become 100 years old on  2100\n"
     ]
    }
   ],
   "source": [
    "## First Task\n",
    "\n",
    "Name=\"\"\n",
    "Age=0\n",
    "count=0\n",
    "CAge=0\n",
    "Name=input(\"Enter your Name \\n\")\n",
    "Age=input(\"Enter your Age \\n\")\n",
    "CAge=100-int(Age)+2021\n",
    "count=int(input(\"Enter the number of times you want to print message\\n\"))\n",
    "for i in range(0,count):\n",
    "    print(Name,\" will become 100 years old on \",CAge,end=\"\\n\")"
   ]
  },
  {
   "cell_type": "code",
   "execution_count": 2,
   "metadata": {},
   "outputs": [
    {
     "name": "stdout",
     "output_type": "stream",
     "text": [
      "Number of words in given sentence is  4\n"
     ]
    }
   ],
   "source": [
    "#second task\n",
    "def wordCounter(str):\n",
    "    count=0\n",
    "    for word in str.split():   \n",
    "         count+=1\n",
    "    return count\n",
    "print(\"Number of words in given sentence is \",wordCounter(\"My name is saim\"))"
   ]
  },
  {
   "cell_type": "code",
   "execution_count": null,
   "metadata": {},
   "outputs": [],
   "source": []
  }
 ],
 "metadata": {
  "kernelspec": {
   "display_name": "Python 3",
   "language": "python",
   "name": "python3"
  },
  "language_info": {
   "codemirror_mode": {
    "name": "ipython",
    "version": 3
   },
   "file_extension": ".py",
   "mimetype": "text/x-python",
   "name": "python",
   "nbconvert_exporter": "python",
   "pygments_lexer": "ipython3",
   "version": "3.8.5"
  }
 },
 "nbformat": 4,
 "nbformat_minor": 4
}
